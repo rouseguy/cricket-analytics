{
 "cells": [
  {
   "cell_type": "code",
   "execution_count": 1,
   "id": "3e2151a1",
   "metadata": {},
   "outputs": [],
   "source": [
    "import numpy as np\n",
    "import pandas as pd\n",
    "import matplotlib.pyplot as plt\n",
    "import seaborn as sns"
   ]
  },
  {
   "cell_type": "code",
   "execution_count": 2,
   "id": "44af2a88",
   "metadata": {},
   "outputs": [],
   "source": [
    "plt.rcParams['figure.figsize'] = (14, 8)"
   ]
  },
  {
   "cell_type": "code",
   "execution_count": 35,
   "id": "c61d7b3f",
   "metadata": {},
   "outputs": [
    {
     "ename": "FileNotFoundError",
     "evalue": "[Errno 2] No such file or directory: 'LPLmatches.csv'",
     "output_type": "error",
     "traceback": [
      "\u001b[1;31m---------------------------------------------------------------------------\u001b[0m",
      "\u001b[1;31mFileNotFoundError\u001b[0m                         Traceback (most recent call last)",
      "\u001b[1;32m~\\AppData\\Local\\Temp/ipykernel_11132/44314876.py\u001b[0m in \u001b[0;36m<module>\u001b[1;34m\u001b[0m\n\u001b[1;32m----> 1\u001b[1;33m \u001b[0mmatches\u001b[0m\u001b[1;33m=\u001b[0m\u001b[0mpd\u001b[0m\u001b[1;33m.\u001b[0m\u001b[0mread_csv\u001b[0m\u001b[1;33m(\u001b[0m\u001b[1;34m'LPLmatches.csv'\u001b[0m\u001b[1;33m,\u001b[0m \u001b[0mindex_col\u001b[0m\u001b[1;33m=\u001b[0m\u001b[1;36m0\u001b[0m\u001b[1;33m)\u001b[0m\u001b[1;33m\u001b[0m\u001b[1;33m\u001b[0m\u001b[0m\n\u001b[0m\u001b[0;32m      2\u001b[0m \u001b[0mprint\u001b[0m\u001b[1;33m(\u001b[0m\u001b[0mmatches\u001b[0m\u001b[1;33m.\u001b[0m\u001b[0mshape\u001b[0m\u001b[1;33m)\u001b[0m\u001b[1;33m\u001b[0m\u001b[1;33m\u001b[0m\u001b[0m\n",
      "\u001b[1;32mC:\\ProgramData\\Anaconda3\\lib\\site-packages\\pandas\\util\\_decorators.py\u001b[0m in \u001b[0;36mwrapper\u001b[1;34m(*args, **kwargs)\u001b[0m\n\u001b[0;32m    309\u001b[0m                     \u001b[0mstacklevel\u001b[0m\u001b[1;33m=\u001b[0m\u001b[0mstacklevel\u001b[0m\u001b[1;33m,\u001b[0m\u001b[1;33m\u001b[0m\u001b[1;33m\u001b[0m\u001b[0m\n\u001b[0;32m    310\u001b[0m                 )\n\u001b[1;32m--> 311\u001b[1;33m             \u001b[1;32mreturn\u001b[0m \u001b[0mfunc\u001b[0m\u001b[1;33m(\u001b[0m\u001b[1;33m*\u001b[0m\u001b[0margs\u001b[0m\u001b[1;33m,\u001b[0m \u001b[1;33m**\u001b[0m\u001b[0mkwargs\u001b[0m\u001b[1;33m)\u001b[0m\u001b[1;33m\u001b[0m\u001b[1;33m\u001b[0m\u001b[0m\n\u001b[0m\u001b[0;32m    312\u001b[0m \u001b[1;33m\u001b[0m\u001b[0m\n\u001b[0;32m    313\u001b[0m         \u001b[1;32mreturn\u001b[0m \u001b[0mwrapper\u001b[0m\u001b[1;33m\u001b[0m\u001b[1;33m\u001b[0m\u001b[0m\n",
      "\u001b[1;32mC:\\ProgramData\\Anaconda3\\lib\\site-packages\\pandas\\io\\parsers\\readers.py\u001b[0m in \u001b[0;36mread_csv\u001b[1;34m(filepath_or_buffer, sep, delimiter, header, names, index_col, usecols, squeeze, prefix, mangle_dupe_cols, dtype, engine, converters, true_values, false_values, skipinitialspace, skiprows, skipfooter, nrows, na_values, keep_default_na, na_filter, verbose, skip_blank_lines, parse_dates, infer_datetime_format, keep_date_col, date_parser, dayfirst, cache_dates, iterator, chunksize, compression, thousands, decimal, lineterminator, quotechar, quoting, doublequote, escapechar, comment, encoding, encoding_errors, dialect, error_bad_lines, warn_bad_lines, on_bad_lines, delim_whitespace, low_memory, memory_map, float_precision, storage_options)\u001b[0m\n\u001b[0;32m    584\u001b[0m     \u001b[0mkwds\u001b[0m\u001b[1;33m.\u001b[0m\u001b[0mupdate\u001b[0m\u001b[1;33m(\u001b[0m\u001b[0mkwds_defaults\u001b[0m\u001b[1;33m)\u001b[0m\u001b[1;33m\u001b[0m\u001b[1;33m\u001b[0m\u001b[0m\n\u001b[0;32m    585\u001b[0m \u001b[1;33m\u001b[0m\u001b[0m\n\u001b[1;32m--> 586\u001b[1;33m     \u001b[1;32mreturn\u001b[0m \u001b[0m_read\u001b[0m\u001b[1;33m(\u001b[0m\u001b[0mfilepath_or_buffer\u001b[0m\u001b[1;33m,\u001b[0m \u001b[0mkwds\u001b[0m\u001b[1;33m)\u001b[0m\u001b[1;33m\u001b[0m\u001b[1;33m\u001b[0m\u001b[0m\n\u001b[0m\u001b[0;32m    587\u001b[0m \u001b[1;33m\u001b[0m\u001b[0m\n\u001b[0;32m    588\u001b[0m \u001b[1;33m\u001b[0m\u001b[0m\n",
      "\u001b[1;32mC:\\ProgramData\\Anaconda3\\lib\\site-packages\\pandas\\io\\parsers\\readers.py\u001b[0m in \u001b[0;36m_read\u001b[1;34m(filepath_or_buffer, kwds)\u001b[0m\n\u001b[0;32m    480\u001b[0m \u001b[1;33m\u001b[0m\u001b[0m\n\u001b[0;32m    481\u001b[0m     \u001b[1;31m# Create the parser.\u001b[0m\u001b[1;33m\u001b[0m\u001b[1;33m\u001b[0m\u001b[0m\n\u001b[1;32m--> 482\u001b[1;33m     \u001b[0mparser\u001b[0m \u001b[1;33m=\u001b[0m \u001b[0mTextFileReader\u001b[0m\u001b[1;33m(\u001b[0m\u001b[0mfilepath_or_buffer\u001b[0m\u001b[1;33m,\u001b[0m \u001b[1;33m**\u001b[0m\u001b[0mkwds\u001b[0m\u001b[1;33m)\u001b[0m\u001b[1;33m\u001b[0m\u001b[1;33m\u001b[0m\u001b[0m\n\u001b[0m\u001b[0;32m    483\u001b[0m \u001b[1;33m\u001b[0m\u001b[0m\n\u001b[0;32m    484\u001b[0m     \u001b[1;32mif\u001b[0m \u001b[0mchunksize\u001b[0m \u001b[1;32mor\u001b[0m \u001b[0miterator\u001b[0m\u001b[1;33m:\u001b[0m\u001b[1;33m\u001b[0m\u001b[1;33m\u001b[0m\u001b[0m\n",
      "\u001b[1;32mC:\\ProgramData\\Anaconda3\\lib\\site-packages\\pandas\\io\\parsers\\readers.py\u001b[0m in \u001b[0;36m__init__\u001b[1;34m(self, f, engine, **kwds)\u001b[0m\n\u001b[0;32m    809\u001b[0m             \u001b[0mself\u001b[0m\u001b[1;33m.\u001b[0m\u001b[0moptions\u001b[0m\u001b[1;33m[\u001b[0m\u001b[1;34m\"has_index_names\"\u001b[0m\u001b[1;33m]\u001b[0m \u001b[1;33m=\u001b[0m \u001b[0mkwds\u001b[0m\u001b[1;33m[\u001b[0m\u001b[1;34m\"has_index_names\"\u001b[0m\u001b[1;33m]\u001b[0m\u001b[1;33m\u001b[0m\u001b[1;33m\u001b[0m\u001b[0m\n\u001b[0;32m    810\u001b[0m \u001b[1;33m\u001b[0m\u001b[0m\n\u001b[1;32m--> 811\u001b[1;33m         \u001b[0mself\u001b[0m\u001b[1;33m.\u001b[0m\u001b[0m_engine\u001b[0m \u001b[1;33m=\u001b[0m \u001b[0mself\u001b[0m\u001b[1;33m.\u001b[0m\u001b[0m_make_engine\u001b[0m\u001b[1;33m(\u001b[0m\u001b[0mself\u001b[0m\u001b[1;33m.\u001b[0m\u001b[0mengine\u001b[0m\u001b[1;33m)\u001b[0m\u001b[1;33m\u001b[0m\u001b[1;33m\u001b[0m\u001b[0m\n\u001b[0m\u001b[0;32m    812\u001b[0m \u001b[1;33m\u001b[0m\u001b[0m\n\u001b[0;32m    813\u001b[0m     \u001b[1;32mdef\u001b[0m \u001b[0mclose\u001b[0m\u001b[1;33m(\u001b[0m\u001b[0mself\u001b[0m\u001b[1;33m)\u001b[0m\u001b[1;33m:\u001b[0m\u001b[1;33m\u001b[0m\u001b[1;33m\u001b[0m\u001b[0m\n",
      "\u001b[1;32mC:\\ProgramData\\Anaconda3\\lib\\site-packages\\pandas\\io\\parsers\\readers.py\u001b[0m in \u001b[0;36m_make_engine\u001b[1;34m(self, engine)\u001b[0m\n\u001b[0;32m   1038\u001b[0m             )\n\u001b[0;32m   1039\u001b[0m         \u001b[1;31m# error: Too many arguments for \"ParserBase\"\u001b[0m\u001b[1;33m\u001b[0m\u001b[1;33m\u001b[0m\u001b[0m\n\u001b[1;32m-> 1040\u001b[1;33m         \u001b[1;32mreturn\u001b[0m \u001b[0mmapping\u001b[0m\u001b[1;33m[\u001b[0m\u001b[0mengine\u001b[0m\u001b[1;33m]\u001b[0m\u001b[1;33m(\u001b[0m\u001b[0mself\u001b[0m\u001b[1;33m.\u001b[0m\u001b[0mf\u001b[0m\u001b[1;33m,\u001b[0m \u001b[1;33m**\u001b[0m\u001b[0mself\u001b[0m\u001b[1;33m.\u001b[0m\u001b[0moptions\u001b[0m\u001b[1;33m)\u001b[0m  \u001b[1;31m# type: ignore[call-arg]\u001b[0m\u001b[1;33m\u001b[0m\u001b[1;33m\u001b[0m\u001b[0m\n\u001b[0m\u001b[0;32m   1041\u001b[0m \u001b[1;33m\u001b[0m\u001b[0m\n\u001b[0;32m   1042\u001b[0m     \u001b[1;32mdef\u001b[0m \u001b[0m_failover_to_python\u001b[0m\u001b[1;33m(\u001b[0m\u001b[0mself\u001b[0m\u001b[1;33m)\u001b[0m\u001b[1;33m:\u001b[0m\u001b[1;33m\u001b[0m\u001b[1;33m\u001b[0m\u001b[0m\n",
      "\u001b[1;32mC:\\ProgramData\\Anaconda3\\lib\\site-packages\\pandas\\io\\parsers\\c_parser_wrapper.py\u001b[0m in \u001b[0;36m__init__\u001b[1;34m(self, src, **kwds)\u001b[0m\n\u001b[0;32m     49\u001b[0m \u001b[1;33m\u001b[0m\u001b[0m\n\u001b[0;32m     50\u001b[0m         \u001b[1;31m# open handles\u001b[0m\u001b[1;33m\u001b[0m\u001b[1;33m\u001b[0m\u001b[0m\n\u001b[1;32m---> 51\u001b[1;33m         \u001b[0mself\u001b[0m\u001b[1;33m.\u001b[0m\u001b[0m_open_handles\u001b[0m\u001b[1;33m(\u001b[0m\u001b[0msrc\u001b[0m\u001b[1;33m,\u001b[0m \u001b[0mkwds\u001b[0m\u001b[1;33m)\u001b[0m\u001b[1;33m\u001b[0m\u001b[1;33m\u001b[0m\u001b[0m\n\u001b[0m\u001b[0;32m     52\u001b[0m         \u001b[1;32massert\u001b[0m \u001b[0mself\u001b[0m\u001b[1;33m.\u001b[0m\u001b[0mhandles\u001b[0m \u001b[1;32mis\u001b[0m \u001b[1;32mnot\u001b[0m \u001b[1;32mNone\u001b[0m\u001b[1;33m\u001b[0m\u001b[1;33m\u001b[0m\u001b[0m\n\u001b[0;32m     53\u001b[0m \u001b[1;33m\u001b[0m\u001b[0m\n",
      "\u001b[1;32mC:\\ProgramData\\Anaconda3\\lib\\site-packages\\pandas\\io\\parsers\\base_parser.py\u001b[0m in \u001b[0;36m_open_handles\u001b[1;34m(self, src, kwds)\u001b[0m\n\u001b[0;32m    220\u001b[0m         \u001b[0mLet\u001b[0m \u001b[0mthe\u001b[0m \u001b[0mreaders\u001b[0m \u001b[0mopen\u001b[0m \u001b[0mIOHandles\u001b[0m \u001b[0mafter\u001b[0m \u001b[0mthey\u001b[0m \u001b[0mare\u001b[0m \u001b[0mdone\u001b[0m \u001b[1;32mwith\u001b[0m \u001b[0mtheir\u001b[0m \u001b[0mpotential\u001b[0m \u001b[0mraises\u001b[0m\u001b[1;33m.\u001b[0m\u001b[1;33m\u001b[0m\u001b[1;33m\u001b[0m\u001b[0m\n\u001b[0;32m    221\u001b[0m         \"\"\"\n\u001b[1;32m--> 222\u001b[1;33m         self.handles = get_handle(\n\u001b[0m\u001b[0;32m    223\u001b[0m             \u001b[0msrc\u001b[0m\u001b[1;33m,\u001b[0m\u001b[1;33m\u001b[0m\u001b[1;33m\u001b[0m\u001b[0m\n\u001b[0;32m    224\u001b[0m             \u001b[1;34m\"r\"\u001b[0m\u001b[1;33m,\u001b[0m\u001b[1;33m\u001b[0m\u001b[1;33m\u001b[0m\u001b[0m\n",
      "\u001b[1;32mC:\\ProgramData\\Anaconda3\\lib\\site-packages\\pandas\\io\\common.py\u001b[0m in \u001b[0;36mget_handle\u001b[1;34m(path_or_buf, mode, encoding, compression, memory_map, is_text, errors, storage_options)\u001b[0m\n\u001b[0;32m    700\u001b[0m         \u001b[1;32mif\u001b[0m \u001b[0mioargs\u001b[0m\u001b[1;33m.\u001b[0m\u001b[0mencoding\u001b[0m \u001b[1;32mand\u001b[0m \u001b[1;34m\"b\"\u001b[0m \u001b[1;32mnot\u001b[0m \u001b[1;32min\u001b[0m \u001b[0mioargs\u001b[0m\u001b[1;33m.\u001b[0m\u001b[0mmode\u001b[0m\u001b[1;33m:\u001b[0m\u001b[1;33m\u001b[0m\u001b[1;33m\u001b[0m\u001b[0m\n\u001b[0;32m    701\u001b[0m             \u001b[1;31m# Encoding\u001b[0m\u001b[1;33m\u001b[0m\u001b[1;33m\u001b[0m\u001b[0m\n\u001b[1;32m--> 702\u001b[1;33m             handle = open(\n\u001b[0m\u001b[0;32m    703\u001b[0m                 \u001b[0mhandle\u001b[0m\u001b[1;33m,\u001b[0m\u001b[1;33m\u001b[0m\u001b[1;33m\u001b[0m\u001b[0m\n\u001b[0;32m    704\u001b[0m                 \u001b[0mioargs\u001b[0m\u001b[1;33m.\u001b[0m\u001b[0mmode\u001b[0m\u001b[1;33m,\u001b[0m\u001b[1;33m\u001b[0m\u001b[1;33m\u001b[0m\u001b[0m\n",
      "\u001b[1;31mFileNotFoundError\u001b[0m: [Errno 2] No such file or directory: 'LPLmatches.csv'"
     ]
    }
   ],
   "source": [
    "matches=pd.read_csv('LPLmatches.csv', index_col=0)\n",
    "print(matches.shape)"
   ]
  },
  {
   "cell_type": "code",
   "execution_count": 4,
   "id": "1fc7d490",
   "metadata": {},
   "outputs": [
    {
     "data": {
      "text/html": [
       "<div>\n",
       "<style scoped>\n",
       "    .dataframe tbody tr th:only-of-type {\n",
       "        vertical-align: middle;\n",
       "    }\n",
       "\n",
       "    .dataframe tbody tr th {\n",
       "        vertical-align: top;\n",
       "    }\n",
       "\n",
       "    .dataframe thead th {\n",
       "        text-align: right;\n",
       "    }\n",
       "</style>\n",
       "<table border=\"1\" class=\"dataframe\">\n",
       "  <thead>\n",
       "    <tr style=\"text-align: right;\">\n",
       "      <th></th>\n",
       "      <th>season</th>\n",
       "      <th>team1</th>\n",
       "      <th>team2</th>\n",
       "      <th>toss_winner</th>\n",
       "      <th>toss_decision</th>\n",
       "      <th>result</th>\n",
       "      <th>winner</th>\n",
       "      <th>winner_runs</th>\n",
       "      <th>winner_wickets</th>\n",
       "      <th>player_of_match</th>\n",
       "      <th>venue</th>\n",
       "      <th>city</th>\n",
       "      <th>umpire1</th>\n",
       "      <th>umpire2</th>\n",
       "      <th>reserve_umpire</th>\n",
       "      <th>tv_umpire</th>\n",
       "      <th>match_referee</th>\n",
       "      <th>eliminator</th>\n",
       "    </tr>\n",
       "    <tr>\n",
       "      <th>id</th>\n",
       "      <th></th>\n",
       "      <th></th>\n",
       "      <th></th>\n",
       "      <th></th>\n",
       "      <th></th>\n",
       "      <th></th>\n",
       "      <th></th>\n",
       "      <th></th>\n",
       "      <th></th>\n",
       "      <th></th>\n",
       "      <th></th>\n",
       "      <th></th>\n",
       "      <th></th>\n",
       "      <th></th>\n",
       "      <th></th>\n",
       "      <th></th>\n",
       "      <th></th>\n",
       "      <th></th>\n",
       "    </tr>\n",
       "  </thead>\n",
       "  <tbody>\n",
       "    <tr>\n",
       "      <th>1</th>\n",
       "      <td>2020/21</td>\n",
       "      <td>Kandy Tuskers</td>\n",
       "      <td>Colombo Kings</td>\n",
       "      <td>Colombo Kings</td>\n",
       "      <td>field</td>\n",
       "      <td>tie</td>\n",
       "      <td>Kandy Tuskers</td>\n",
       "      <td>0</td>\n",
       "      <td>0</td>\n",
       "      <td>LD Chandimal</td>\n",
       "      <td>Mahinda Rajapaksa International Cricket Stadiu...</td>\n",
       "      <td>Hambantota</td>\n",
       "      <td>LE Hannibal</td>\n",
       "      <td>RR Wimalasiri</td>\n",
       "      <td>RMPJ Rambukwella</td>\n",
       "      <td>RSA Palliyaguruge</td>\n",
       "      <td>GF Labrooy</td>\n",
       "      <td>Colombo Kings</td>\n",
       "    </tr>\n",
       "    <tr>\n",
       "      <th>2</th>\n",
       "      <td>2020/21</td>\n",
       "      <td>Galle Gladiators</td>\n",
       "      <td>Jaffna Stallions</td>\n",
       "      <td>Galle Gladiators</td>\n",
       "      <td>bat</td>\n",
       "      <td>normal</td>\n",
       "      <td>Jaffna Stallions</td>\n",
       "      <td>0</td>\n",
       "      <td>8</td>\n",
       "      <td>WIA Fernando</td>\n",
       "      <td>Mahinda Rajapaksa International Cricket Stadiu...</td>\n",
       "      <td>Hambantota</td>\n",
       "      <td>ID Gunawardene</td>\n",
       "      <td>LE Hannibal</td>\n",
       "      <td>Keerthi Bandara</td>\n",
       "      <td>RMPJ Rambukwella</td>\n",
       "      <td>WC Labrooy</td>\n",
       "      <td>NaN</td>\n",
       "    </tr>\n",
       "    <tr>\n",
       "      <th>3</th>\n",
       "      <td>2020/21</td>\n",
       "      <td>Dambulla Viiking</td>\n",
       "      <td>Kandy Tuskers</td>\n",
       "      <td>Kandy Tuskers</td>\n",
       "      <td>field</td>\n",
       "      <td>normal</td>\n",
       "      <td>Dambulla Viiking</td>\n",
       "      <td>4</td>\n",
       "      <td>0</td>\n",
       "      <td>MD Shanaka</td>\n",
       "      <td>Mahinda Rajapaksa International Cricket Stadiu...</td>\n",
       "      <td>Hambantota</td>\n",
       "      <td>JWHD Boteju</td>\n",
       "      <td>RR Wimalasiri</td>\n",
       "      <td>RA Kottahachchi</td>\n",
       "      <td>RSA Palliyaguruge</td>\n",
       "      <td>BCMS Mendis</td>\n",
       "      <td>NaN</td>\n",
       "    </tr>\n",
       "    <tr>\n",
       "      <th>4</th>\n",
       "      <td>2020/21</td>\n",
       "      <td>Colombo Kings</td>\n",
       "      <td>Galle Gladiators</td>\n",
       "      <td>Galle Gladiators</td>\n",
       "      <td>field</td>\n",
       "      <td>normal</td>\n",
       "      <td>Colombo Kings</td>\n",
       "      <td>34</td>\n",
       "      <td>0</td>\n",
       "      <td>AD Russell</td>\n",
       "      <td>Mahinda Rajapaksa International Cricket Stadiu...</td>\n",
       "      <td>Hambantota</td>\n",
       "      <td>RMPJ Rambukwella</td>\n",
       "      <td>RD Kottahachchi</td>\n",
       "      <td>EJAPAM Jayasooriya</td>\n",
       "      <td>LE Hannibal</td>\n",
       "      <td>GF Labrooy</td>\n",
       "      <td>NaN</td>\n",
       "    </tr>\n",
       "    <tr>\n",
       "      <th>5</th>\n",
       "      <td>2020/21</td>\n",
       "      <td>Jaffna Stallions</td>\n",
       "      <td>Dambulla Viiking</td>\n",
       "      <td>Dambulla Viiking</td>\n",
       "      <td>field</td>\n",
       "      <td>normal</td>\n",
       "      <td>Jaffna Stallions</td>\n",
       "      <td>66</td>\n",
       "      <td>0</td>\n",
       "      <td>NLTC Perera</td>\n",
       "      <td>Mahinda Rajapaksa International Cricket Stadiu...</td>\n",
       "      <td>Hambantota</td>\n",
       "      <td>Keerthi Bandara</td>\n",
       "      <td>RR Wimalasiri</td>\n",
       "      <td>ID Gunawardene</td>\n",
       "      <td>RSA Palliyaguruge</td>\n",
       "      <td>WC Labrooy</td>\n",
       "      <td>NaN</td>\n",
       "    </tr>\n",
       "  </tbody>\n",
       "</table>\n",
       "</div>"
      ],
      "text/plain": [
       "     season             team1             team2       toss_winner  \\\n",
       "id                                                                  \n",
       "1   2020/21     Kandy Tuskers     Colombo Kings     Colombo Kings   \n",
       "2   2020/21  Galle Gladiators  Jaffna Stallions  Galle Gladiators   \n",
       "3   2020/21  Dambulla Viiking     Kandy Tuskers     Kandy Tuskers   \n",
       "4   2020/21     Colombo Kings  Galle Gladiators  Galle Gladiators   \n",
       "5   2020/21  Jaffna Stallions  Dambulla Viiking  Dambulla Viiking   \n",
       "\n",
       "   toss_decision  result            winner  winner_runs  winner_wickets  \\\n",
       "id                                                                        \n",
       "1          field     tie     Kandy Tuskers            0               0   \n",
       "2            bat  normal  Jaffna Stallions            0               8   \n",
       "3          field  normal  Dambulla Viiking            4               0   \n",
       "4          field  normal     Colombo Kings           34               0   \n",
       "5          field  normal  Jaffna Stallions           66               0   \n",
       "\n",
       "   player_of_match                                              venue  \\\n",
       "id                                                                      \n",
       "1     LD Chandimal  Mahinda Rajapaksa International Cricket Stadiu...   \n",
       "2     WIA Fernando  Mahinda Rajapaksa International Cricket Stadiu...   \n",
       "3       MD Shanaka  Mahinda Rajapaksa International Cricket Stadiu...   \n",
       "4       AD Russell  Mahinda Rajapaksa International Cricket Stadiu...   \n",
       "5      NLTC Perera  Mahinda Rajapaksa International Cricket Stadiu...   \n",
       "\n",
       "          city           umpire1          umpire2      reserve_umpire  \\\n",
       "id                                                                      \n",
       "1   Hambantota       LE Hannibal    RR Wimalasiri    RMPJ Rambukwella   \n",
       "2   Hambantota    ID Gunawardene      LE Hannibal     Keerthi Bandara   \n",
       "3   Hambantota       JWHD Boteju    RR Wimalasiri     RA Kottahachchi   \n",
       "4   Hambantota  RMPJ Rambukwella  RD Kottahachchi  EJAPAM Jayasooriya   \n",
       "5   Hambantota   Keerthi Bandara    RR Wimalasiri      ID Gunawardene   \n",
       "\n",
       "            tv_umpire match_referee     eliminator  \n",
       "id                                                  \n",
       "1   RSA Palliyaguruge    GF Labrooy  Colombo Kings  \n",
       "2    RMPJ Rambukwella    WC Labrooy            NaN  \n",
       "3   RSA Palliyaguruge   BCMS Mendis            NaN  \n",
       "4         LE Hannibal    GF Labrooy            NaN  \n",
       "5   RSA Palliyaguruge    WC Labrooy            NaN  "
      ]
     },
     "execution_count": 4,
     "metadata": {},
     "output_type": "execute_result"
    }
   ],
   "source": [
    "matches.head()"
   ]
  },
  {
   "cell_type": "code",
   "execution_count": 5,
   "id": "1bd43280",
   "metadata": {},
   "outputs": [
    {
     "data": {
      "text/html": [
       "<div>\n",
       "<style scoped>\n",
       "    .dataframe tbody tr th:only-of-type {\n",
       "        vertical-align: middle;\n",
       "    }\n",
       "\n",
       "    .dataframe tbody tr th {\n",
       "        vertical-align: top;\n",
       "    }\n",
       "\n",
       "    .dataframe thead th {\n",
       "        text-align: right;\n",
       "    }\n",
       "</style>\n",
       "<table border=\"1\" class=\"dataframe\">\n",
       "  <thead>\n",
       "    <tr style=\"text-align: right;\">\n",
       "      <th></th>\n",
       "      <th>winner_runs</th>\n",
       "      <th>winner_wickets</th>\n",
       "    </tr>\n",
       "  </thead>\n",
       "  <tbody>\n",
       "    <tr>\n",
       "      <th>count</th>\n",
       "      <td>47.000000</td>\n",
       "      <td>47.000000</td>\n",
       "    </tr>\n",
       "    <tr>\n",
       "      <th>mean</th>\n",
       "      <td>18.021277</td>\n",
       "      <td>2.510638</td>\n",
       "    </tr>\n",
       "    <tr>\n",
       "      <th>std</th>\n",
       "      <td>26.528483</td>\n",
       "      <td>3.147617</td>\n",
       "    </tr>\n",
       "    <tr>\n",
       "      <th>min</th>\n",
       "      <td>0.000000</td>\n",
       "      <td>0.000000</td>\n",
       "    </tr>\n",
       "    <tr>\n",
       "      <th>25%</th>\n",
       "      <td>0.000000</td>\n",
       "      <td>0.000000</td>\n",
       "    </tr>\n",
       "    <tr>\n",
       "      <th>50%</th>\n",
       "      <td>0.000000</td>\n",
       "      <td>0.000000</td>\n",
       "    </tr>\n",
       "    <tr>\n",
       "      <th>75%</th>\n",
       "      <td>26.500000</td>\n",
       "      <td>5.500000</td>\n",
       "    </tr>\n",
       "    <tr>\n",
       "      <th>max</th>\n",
       "      <td>102.000000</td>\n",
       "      <td>9.000000</td>\n",
       "    </tr>\n",
       "  </tbody>\n",
       "</table>\n",
       "</div>"
      ],
      "text/plain": [
       "       winner_runs  winner_wickets\n",
       "count    47.000000       47.000000\n",
       "mean     18.021277        2.510638\n",
       "std      26.528483        3.147617\n",
       "min       0.000000        0.000000\n",
       "25%       0.000000        0.000000\n",
       "50%       0.000000        0.000000\n",
       "75%      26.500000        5.500000\n",
       "max     102.000000        9.000000"
      ]
     },
     "execution_count": 5,
     "metadata": {},
     "output_type": "execute_result"
    }
   ],
   "source": [
    "matches.describe()"
   ]
  },
  {
   "cell_type": "code",
   "execution_count": 6,
   "id": "2ad1c9d2",
   "metadata": {},
   "outputs": [
    {
     "name": "stdout",
     "output_type": "stream",
     "text": [
      "<class 'pandas.core.frame.DataFrame'>\n",
      "Int64Index: 47 entries, 1 to 47\n",
      "Data columns (total 18 columns):\n",
      " #   Column           Non-Null Count  Dtype \n",
      "---  ------           --------------  ----- \n",
      " 0   season           47 non-null     object\n",
      " 1   team1            47 non-null     object\n",
      " 2   team2            47 non-null     object\n",
      " 3   toss_winner      47 non-null     object\n",
      " 4   toss_decision    47 non-null     object\n",
      " 5   result           47 non-null     object\n",
      " 6   winner           47 non-null     object\n",
      " 7   winner_runs      47 non-null     int64 \n",
      " 8   winner_wickets   47 non-null     int64 \n",
      " 9   player_of_match  46 non-null     object\n",
      " 10  venue            47 non-null     object\n",
      " 11  city             47 non-null     object\n",
      " 12  umpire1          47 non-null     object\n",
      " 13  umpire2          47 non-null     object\n",
      " 14  reserve_umpire   47 non-null     object\n",
      " 15  tv_umpire        47 non-null     object\n",
      " 16  match_referee    47 non-null     object\n",
      " 17  eliminator       1 non-null      object\n",
      "dtypes: int64(2), object(16)\n",
      "memory usage: 7.0+ KB\n"
     ]
    }
   ],
   "source": [
    "matches.info()"
   ]
  },
  {
   "cell_type": "code",
   "execution_count": 7,
   "id": "395e1053",
   "metadata": {},
   "outputs": [
    {
     "data": {
      "text/plain": [
       "array(['2020/21', '2021/22'], dtype=object)"
      ]
     },
     "execution_count": 7,
     "metadata": {},
     "output_type": "execute_result"
    }
   ],
   "source": [
    "matches['season'].unique()"
   ]
  },
  {
   "cell_type": "code",
   "execution_count": 8,
   "id": "f80ddc54",
   "metadata": {},
   "outputs": [
    {
     "data": {
      "text/plain": [
       "102"
      ]
     },
     "execution_count": 8,
     "metadata": {},
     "output_type": "execute_result"
    }
   ],
   "source": [
    "max(matches['winner_runs'])"
   ]
  },
  {
   "cell_type": "code",
   "execution_count": 9,
   "id": "2a1d5b69",
   "metadata": {},
   "outputs": [
    {
     "data": {
      "text/plain": [
       "season                                  2021/22\n",
       "team1                           Dambulla Giants\n",
       "team2                            Kandy Warriors\n",
       "toss_winner                     Dambulla Giants\n",
       "toss_decision                               bat\n",
       "result                                   normal\n",
       "winner                           Kandy Warriors\n",
       "winner_runs                                   0\n",
       "winner_wickets                                6\n",
       "player_of_match                       RS Bopara\n",
       "venue              R Premadasa Stadium, Colombo\n",
       "city                                    Colombo\n",
       "umpire1                           RR Wimalasiri\n",
       "umpire2                         RD Kottahachchi\n",
       "reserve_umpire                   ID Gunawardene\n",
       "tv_umpire                           LE Hannibal\n",
       "match_referee                       BCMS Mendis\n",
       "eliminator                                  NaN\n",
       "Name: 41, dtype: object"
      ]
     },
     "execution_count": 9,
     "metadata": {},
     "output_type": "execute_result"
    }
   ],
   "source": [
    "# Match won by the maximum margin of runs\n",
    "matches.iloc[matches['winner_runs'].idxmax()]"
   ]
  },
  {
   "cell_type": "code",
   "execution_count": 10,
   "id": "e65a9e94",
   "metadata": {},
   "outputs": [
    {
     "data": {
      "text/plain": [
       "9"
      ]
     },
     "execution_count": 10,
     "metadata": {},
     "output_type": "execute_result"
    }
   ],
   "source": [
    "max(matches['winner_wickets'])"
   ]
  },
  {
   "cell_type": "code",
   "execution_count": 11,
   "id": "93c97e1e",
   "metadata": {},
   "outputs": [
    {
     "data": {
      "text/plain": [
       "season                                                       2020/21\n",
       "team1                                               Dambulla Viiking\n",
       "team2                                                  Colombo Kings\n",
       "toss_winner                                            Colombo Kings\n",
       "toss_decision                                                  field\n",
       "result                                                        normal\n",
       "winner                                                 Colombo Kings\n",
       "winner_runs                                                        0\n",
       "winner_wickets                                                     6\n",
       "player_of_match                                           Qais Ahmad\n",
       "venue              Mahinda Rajapaksa International Cricket Stadiu...\n",
       "city                                                      Hambantota\n",
       "umpire1                                              HDPK Dharmasena\n",
       "umpire2                                             RMPJ Rambukwella\n",
       "reserve_umpire                                           LE Hannibal\n",
       "tv_umpire                                              RR Wimalasiri\n",
       "match_referee                                           RS Madugalle\n",
       "eliminator                                                       NaN\n",
       "Name: 20, dtype: object"
      ]
     },
     "execution_count": 11,
     "metadata": {},
     "output_type": "execute_result"
    }
   ],
   "source": [
    "# Match won by maximum wickets\n",
    "matches.iloc[matches['winner_wickets'].idxmax()]"
   ]
  },
  {
   "cell_type": "code",
   "execution_count": 12,
   "id": "b463d9b5",
   "metadata": {},
   "outputs": [
    {
     "data": {
      "text/plain": [
       "season                                  2021/22\n",
       "team1                            Kandy Warriors\n",
       "team2                              Jaffna Kings\n",
       "toss_winner                        Jaffna Kings\n",
       "toss_decision                             field\n",
       "result                                   normal\n",
       "winner                             Jaffna Kings\n",
       "winner_runs                                   0\n",
       "winner_wickets                                7\n",
       "player_of_match                    Shoaib Malik\n",
       "venue              R Premadasa Stadium, Colombo\n",
       "city                                    Colombo\n",
       "umpire1                             LE Hannibal\n",
       "umpire2                         RD Kottahachchi\n",
       "reserve_umpire                   ID Gunawardene\n",
       "tv_umpire                      RMPJ Rambukwella\n",
       "match_referee                       BCMS Mendis\n",
       "eliminator                                  NaN\n",
       "Name: 35, dtype: object"
      ]
     },
     "execution_count": 12,
     "metadata": {},
     "output_type": "execute_result"
    }
   ],
   "source": [
    "# Match won by minimum margin of runs (not by 1 run)\n",
    "matches.iloc[matches[matches['winner_runs'].ge(1)].winner_runs.idxmin()]"
   ]
  },
  {
   "cell_type": "code",
   "execution_count": 13,
   "id": "c7565150",
   "metadata": {},
   "outputs": [
    {
     "data": {
      "text/plain": [
       "season                                                       2020/21\n",
       "team1                                               Jaffna Stallions\n",
       "team2                                               Dambulla Viiking\n",
       "toss_winner                                         Dambulla Viiking\n",
       "toss_decision                                                  field\n",
       "result                                                        normal\n",
       "winner                                              Jaffna Stallions\n",
       "winner_runs                                                       37\n",
       "winner_wickets                                                     0\n",
       "player_of_match                                            J Charles\n",
       "venue              Mahinda Rajapaksa International Cricket Stadiu...\n",
       "city                                                      Hambantota\n",
       "umpire1                                                  LE Hannibal\n",
       "umpire2                                            RSA Palliyaguruge\n",
       "reserve_umpire                                         RR Wimalasiri\n",
       "tv_umpire                                            HDPK Dharmasena\n",
       "match_referee                                           RS Madugalle\n",
       "eliminator                                                       NaN\n",
       "Name: 22, dtype: object"
      ]
     },
     "execution_count": 13,
     "metadata": {},
     "output_type": "execute_result"
    }
   ],
   "source": [
    "# Match won by minimum wickets (not by 0 wickets)\n",
    "matches.iloc[matches[matches['winner_wickets'].ge(1)].winner_wickets.idxmin()]"
   ]
  },
  {
   "cell_type": "code",
   "execution_count": 14,
   "id": "bcee2e24",
   "metadata": {},
   "outputs": [
    {
     "data": {
      "image/png": "[encoded data removed]",
      "text/plain": [
       "<Figure size 1008x576 with 1 Axes>"
      ]
     },
     "metadata": {
      "needs_background": "light"
     },
     "output_type": "display_data"
    }
   ],
   "source": [
    "# Plot to visualise the no. of matches held in each city\n",
    "sns.countplot(y='city', data=matches)\n",
    "plt.title('No. of matches held in each city\\n')\n",
    "plt.xlabel('\\nNo. of matches held')\n",
    "plt.ylabel('Cities\\n')\n",
    "plt.xlim([0,120])\n",
    "plt.show()"
   ]
  },
  {
   "cell_type": "code",
   "execution_count": 15,
   "id": "b77edc47",
   "metadata": {},
   "outputs": [
    {
     "data": {
      "text/plain": [
       "Galle Gladiators    8\n",
       "Jaffna Kings        8\n",
       "Jaffna Stallions    6\n",
       "Dambulla Viiking    5\n",
       "Colombo Kings       5\n",
       "Dambulla Giants     4\n",
       "Colombo Stars       4\n",
       "Kandy Tuskers       3\n",
       "no result           2\n",
       "Kandy Warriors      2\n",
       "Name: winner, dtype: int64"
      ]
     },
     "execution_count": 15,
     "metadata": {},
     "output_type": "execute_result"
    }
   ],
   "source": [
    "# No. of matches won by each team\n",
    "matches['winner'].value_counts()"
   ]
  },
  {
   "cell_type": "code",
   "execution_count": 16,
   "id": "1b182901",
   "metadata": {},
   "outputs": [
    {
     "data": {
      "image/png": "[encoded data removed]",
      "text/plain": [
       "<Figure size 1008x576 with 1 Axes>"
      ]
     },
     "metadata": {
      "needs_background": "light"
     },
     "output_type": "display_data"
    }
   ],
   "source": [
    "# Plot to visualise the no. of matches won by each team\n",
    "data=matches['winner'].value_counts()\n",
    "fig, ax=plt.subplots()\n",
    "ax.set_xlim([0,120])\n",
    "sns.barplot(y=data.index, x=data, orient='h')\n",
    "plt.title('No. of matches won by each team\\n')\n",
    "plt.xlabel(\"\\nNo. of matches won\")\n",
    "plt.ylabel('Teams\\n')\n",
    "plt.show()"
   ]
  },
  {
   "cell_type": "code",
   "execution_count": 17,
   "id": "4358d2ae",
   "metadata": {},
   "outputs": [
    {
     "data": {
      "image/png": "[encoded data removed]",
      "text/plain": [
       "<Figure size 1008x576 with 1 Axes>"
      ]
     },
     "metadata": {
      "needs_background": "light"
     },
     "output_type": "display_data"
    }
   ],
   "source": [
    "# Plot to visualise the no. of matches held every season\n",
    "sns.countplot(x='season', data=matches)\n",
    "plt.title('No. of matches held every season\\n')\n",
    "plt.xlabel('\\nSeason')\n",
    "plt.ylabel('No. of matches held\\n')\n",
    "plt.show()"
   ]
  },
  {
   "cell_type": "code",
   "execution_count": 18,
   "id": "f32397ba",
   "metadata": {},
   "outputs": [
    {
     "data": {
      "text/plain": [
       "WIA Fernando    4\n",
       "LD Chandimal    3\n",
       "NLTC Perera     3\n",
       "RS Bopara       2\n",
       "PD Salt         2\n",
       "SR Patel        2\n",
       "Shoaib Malik    2\n",
       "D Lakshan       2\n",
       "MD Shanaka      2\n",
       "PVD Chameera    1\n",
       "Name: player_of_match, dtype: int64"
      ]
     },
     "execution_count": 18,
     "metadata": {},
     "output_type": "execute_result"
    }
   ],
   "source": [
    "# Picking the top 10 players based on the no. of Man of Match (MOM) awards won\n",
    "mom=matches['player_of_match'].value_counts()[:10]\n",
    "mom"
   ]
  },
  {
   "cell_type": "code",
   "execution_count": 19,
   "id": "b89bb7f2",
   "metadata": {},
   "outputs": [
    {
     "data": {
      "image/png": "[encoded data removed]",
      "text/plain": [
       "<Figure size 1008x576 with 1 Axes>"
      ]
     },
     "metadata": {
      "needs_background": "light"
     },
     "output_type": "display_data"
    }
   ],
   "source": [
    "# Plot to visualise the top 10 players based on the no. of MOM awards won\n",
    "fig, ax=plt.subplots()\n",
    "ax.set_ylim([0,28])\n",
    "ax.set_title('Top 10 players based on no. of MOM awards won\\n')\n",
    "sns.barplot(x=mom.index, y=mom, orient='v')\n",
    "plt.ylabel('No. of MOM awards won\\n')\n",
    "plt.xlabel('\\nPlayers')\n",
    "plt.show()"
   ]
  },
  {
   "cell_type": "code",
   "execution_count": 20,
   "id": "078507da",
   "metadata": {},
   "outputs": [
    {
     "data": {
      "text/plain": [
       "False    28\n",
       "True     19\n",
       "dtype: int64"
      ]
     },
     "execution_count": 20,
     "metadata": {},
     "output_type": "execute_result"
    }
   ],
   "source": [
    "# Does winning the toss mean winning the match?\n",
    "winnerwinner=matches['toss_winner']== matches['winner']\n",
    "winnerwinner.groupby(winnerwinner).size()"
   ]
  },
  {
   "cell_type": "code",
   "execution_count": 21,
   "id": "135b2da0",
   "metadata": {},
   "outputs": [
    {
     "data": {
      "text/plain": [
       "False    59.57\n",
       "True     40.43\n",
       "dtype: float64"
      ]
     },
     "execution_count": 21,
     "metadata": {},
     "output_type": "execute_result"
    }
   ],
   "source": [
    "# % of games where the toss winning team lost the match (indicated by false) and toss winning team won the match(indicated by true)\n",
    "round(winnerwinner.groupby(winnerwinner).size() / winnerwinner.count() * 100,2)"
   ]
  },
  {
   "cell_type": "code",
   "execution_count": 22,
   "id": "6a096ac3",
   "metadata": {},
   "outputs": [
    {
     "data": {
      "text/plain": [
       "bat      24\n",
       "field    23\n",
       "Name: toss_decision, dtype: int64"
      ]
     },
     "execution_count": 22,
     "metadata": {},
     "output_type": "execute_result"
    }
   ],
   "source": [
    "# How many times did the captain choose fielding and batting after winning the toss?\n",
    "matches['toss_decision'].value_counts()"
   ]
  },
  {
   "cell_type": "code",
   "execution_count": 24,
   "id": "1be97a6f",
   "metadata": {},
   "outputs": [
    {
     "data": {
      "text/plain": [
       "bat      51.06\n",
       "field    48.94\n",
       "Name: toss_decision, dtype: float64"
      ]
     },
     "execution_count": 24,
     "metadata": {},
     "output_type": "execute_result"
    }
   ],
   "source": [
    "# % of matches where the toss winning team's captain chose fielding and batting\n",
    "round(matches['toss_decision'].value_counts()/matches['toss_decision'].count()*100, 2)"
   ]
  },
  {
   "cell_type": "code",
   "execution_count": 25,
   "id": "219ff7a5",
   "metadata": {},
   "outputs": [
    {
     "data": {
      "text/plain": [
       "normal       44\n",
       "no result     2\n",
       "tie           1\n",
       "Name: result, dtype: int64"
      ]
     },
     "execution_count": 25,
     "metadata": {},
     "output_type": "execute_result"
    }
   ],
   "source": [
    "# Different results for games\n",
    "matches['result'].value_counts()"
   ]
  },
  {
   "cell_type": "code",
   "execution_count": 26,
   "id": "34750b95",
   "metadata": {},
   "outputs": [
    {
     "data": {
      "text/plain": [
       "Galle Gladiators    9\n",
       "Dambulla Giants     8\n",
       "Jaffna Kings        6\n",
       "Dambulla Viiking    5\n",
       "Jaffna Stallions    5\n",
       "Colombo Kings       4\n",
       "Colombo Stars       4\n",
       "Kandy Tuskers       3\n",
       "Kandy Warriors      3\n",
       "Name: toss_winner, dtype: int64"
      ]
     },
     "execution_count": 26,
     "metadata": {},
     "output_type": "execute_result"
    }
   ],
   "source": [
    "# How many times did each team win the toss?\n",
    "matches['toss_winner'].value_counts()"
   ]
  },
  {
   "cell_type": "code",
   "execution_count": 27,
   "id": "8cf1f527",
   "metadata": {},
   "outputs": [
    {
     "data": {
      "image/png": "[encoded data removed]",
      "text/plain": [
       "<Figure size 1008x576 with 1 Axes>"
      ]
     },
     "metadata": {
      "needs_background": "light"
     },
     "output_type": "display_data"
    }
   ],
   "source": [
    "# Plot to visualise the no. of tosses won by each team\n",
    "toss=matches['toss_winner'].value_counts()\n",
    "fig, ax=plt.subplots()\n",
    "ax.set_title('No. of tosses won by each team\\n')\n",
    "sns.barplot(y=toss.index, x=toss, orient='h')\n",
    "plt.xlabel('\\nNo. of tosses won')\n",
    "plt.ylabel('Teams\\m')\n",
    "plt.show()"
   ]
  },
  {
   "cell_type": "code",
   "execution_count": 29,
   "id": "4efe7ad8",
   "metadata": {},
   "outputs": [
    {
     "data": {
      "text/plain": [
       "0    Mahinda Rajapaksa International Cricket Stadiu...\n",
       "dtype: object"
      ]
     },
     "execution_count": 29,
     "metadata": {},
     "output_type": "execute_result"
    }
   ],
   "source": [
    "# Best venue for defending your total\n",
    "matches.venue[matches.winner_runs!=0].mode()"
   ]
  },
  {
   "cell_type": "code",
   "execution_count": 31,
   "id": "2794b10f",
   "metadata": {},
   "outputs": [
    {
     "data": {
      "text/plain": [
       "0    Mahinda Rajapaksa International Cricket Stadiu...\n",
       "dtype: object"
      ]
     },
     "execution_count": 31,
     "metadata": {},
     "output_type": "execute_result"
    }
   ],
   "source": [
    "# Best venue to chase a total\n",
    "matches.venue[matches.winner_wickets!=0].mode()"
   ]
  },
  {
   "cell_type": "code",
   "execution_count": 32,
   "id": "b571c145",
   "metadata": {},
   "outputs": [
    {
     "data": {
      "text/plain": [
       "0    Jaffna Kings\n",
       "dtype: object"
      ]
     },
     "execution_count": 32,
     "metadata": {},
     "output_type": "execute_result"
    }
   ],
   "source": [
    "# Best defending team\n",
    "matches.winner[matches.winner_runs!=0].mode()"
   ]
  },
  {
   "cell_type": "code",
   "execution_count": 33,
   "id": "4df3cfd9",
   "metadata": {},
   "outputs": [
    {
     "data": {
      "text/plain": [
       "0    Galle Gladiators\n",
       "dtype: object"
      ]
     },
     "execution_count": 33,
     "metadata": {},
     "output_type": "execute_result"
    }
   ],
   "source": [
    "# Best chasing team\n",
    "matches.winner[matches.winner_wickets!=0].mode()"
   ]
  },
  {
   "cell_type": "code",
   "execution_count": 34,
   "id": "b9b56f94",
   "metadata": {},
   "outputs": [
    {
     "data": {
      "image/png": "[encoded data removed]",
      "text/plain": [
       "<Figure size 1008x576 with 1 Axes>"
      ]
     },
     "metadata": {
      "needs_background": "light"
     },
     "output_type": "display_data"
    }
   ],
   "source": [
    "# No. of matches played in different stadiums\n",
    "sns.countplot(y='venue', data=matches)\n",
    "plt.title('No. of matches played in different stadiums\\n')\n",
    "plt.xlabel('\\nNo. of matches played')\n",
    "plt.ylabel('Stadiums\\n')\n",
    "plt.show()"
   ]
  },
  {
   "cell_type": "code",
   "execution_count": null,
   "id": "2cd012ad",
   "metadata": {},
   "outputs": [],
   "source": []
  }
 ],
 "metadata": {
  "kernelspec": {
   "display_name": "Python 3 (ipykernel)",
   "language": "python",
   "name": "python3"
  },
  "language_info": {
   "codemirror_mode": {
    "name": "ipython",
    "version": 3
   },
   "file_extension": ".py",
   "mimetype": "text/x-python",
   "name": "python",
   "nbconvert_exporter": "python",
   "pygments_lexer": "ipython3",
   "version": "3.9.7"
  }
 },
 "nbformat": 4,
 "nbformat_minor": 5
}
